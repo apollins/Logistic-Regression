{
 "cells": [
  {
   "cell_type": "code",
   "execution_count": 1,
   "id": "819ef26d-3ab1-4d20-a04b-a4b3792a414c",
   "metadata": {},
   "outputs": [],
   "source": [
    "import numpy as np # numerical python library for calculus\n",
    "from matplotlib import pyplot as plt # library for creating static, animated, and interactive visualizations in Python\n",
    "from sklearn import datasets # python library to implement machine learning models and statistical modelling\n",
    "from sklearn.model_selection import train_test_split # for splitting the dataset\n",
    "\n",
    "np.random.seed(1) # makes the random numbers predictable"
   ]
  },
  {
   "cell_type": "code",
   "execution_count": 2,
   "id": "ce398e91-24bc-45b5-932d-d6eaee0c1801",
   "metadata": {
    "scrolled": true
   },
   "outputs": [
    {
     "name": "stdout",
     "output_type": "stream",
     "text": [
      ".. _breast_cancer_dataset:\n",
      "\n",
      "Breast cancer wisconsin (diagnostic) dataset\n",
      "--------------------------------------------\n",
      "\n",
      "**Data Set Characteristics:**\n",
      "\n",
      ":Number of Instances: 569\n",
      "\n",
      ":Number of Attributes: 30 numeric, predictive attributes and the class\n",
      "\n",
      ":Attribute Information:\n",
      "    - radius (mean of distances from center to points on the perimeter)\n",
      "    - texture (standard deviation of gray-scale values)\n",
      "    - perimeter\n",
      "    - area\n",
      "    - smoothness (local variation in radius lengths)\n",
      "    - compactness (perimeter^2 / area - 1.0)\n",
      "    - concavity (severity of concave portions of the contour)\n",
      "    - concave points (number of concave portions of the contour)\n",
      "    - symmetry\n",
      "    - fractal dimension (\"coastline approximation\" - 1)\n",
      "\n",
      "    The mean, standard error, and \"worst\" or largest (mean of the three\n",
      "    worst/largest values) of these features were computed for each image,\n",
      "    resulting in 30 features.  For instance, field 0 is Mean Radius, field\n",
      "    10 is Radius SE, field 20 is Worst Radius.\n",
      "\n",
      "    - class:\n",
      "            - WDBC-Malignant\n",
      "            - WDBC-Benign\n",
      "\n",
      ":Summary Statistics:\n",
      "\n",
      "===================================== ====== ======\n",
      "                                        Min    Max\n",
      "===================================== ====== ======\n",
      "radius (mean):                        6.981  28.11\n",
      "texture (mean):                       9.71   39.28\n",
      "perimeter (mean):                     43.79  188.5\n",
      "area (mean):                          143.5  2501.0\n",
      "smoothness (mean):                    0.053  0.163\n",
      "compactness (mean):                   0.019  0.345\n",
      "concavity (mean):                     0.0    0.427\n",
      "concave points (mean):                0.0    0.201\n",
      "symmetry (mean):                      0.106  0.304\n",
      "fractal dimension (mean):             0.05   0.097\n",
      "radius (standard error):              0.112  2.873\n",
      "texture (standard error):             0.36   4.885\n",
      "perimeter (standard error):           0.757  21.98\n",
      "area (standard error):                6.802  542.2\n",
      "smoothness (standard error):          0.002  0.031\n",
      "compactness (standard error):         0.002  0.135\n",
      "concavity (standard error):           0.0    0.396\n",
      "concave points (standard error):      0.0    0.053\n",
      "symmetry (standard error):            0.008  0.079\n",
      "fractal dimension (standard error):   0.001  0.03\n",
      "radius (worst):                       7.93   36.04\n",
      "texture (worst):                      12.02  49.54\n",
      "perimeter (worst):                    50.41  251.2\n",
      "area (worst):                         185.2  4254.0\n",
      "smoothness (worst):                   0.071  0.223\n",
      "compactness (worst):                  0.027  1.058\n",
      "concavity (worst):                    0.0    1.252\n",
      "concave points (worst):               0.0    0.291\n",
      "symmetry (worst):                     0.156  0.664\n",
      "fractal dimension (worst):            0.055  0.208\n",
      "===================================== ====== ======\n",
      "\n",
      ":Missing Attribute Values: None\n",
      "\n",
      ":Class Distribution: 212 - Malignant, 357 - Benign\n",
      "\n",
      ":Creator:  Dr. William H. Wolberg, W. Nick Street, Olvi L. Mangasarian\n",
      "\n",
      ":Donor: Nick Street\n",
      "\n",
      ":Date: November, 1995\n",
      "\n",
      "This is a copy of UCI ML Breast Cancer Wisconsin (Diagnostic) datasets.\n",
      "https://goo.gl/U2Uwz2\n",
      "\n",
      "Features are computed from a digitized image of a fine needle\n",
      "aspirate (FNA) of a breast mass.  They describe\n",
      "characteristics of the cell nuclei present in the image.\n",
      "\n",
      "Separating plane described above was obtained using\n",
      "Multisurface Method-Tree (MSM-T) [K. P. Bennett, \"Decision Tree\n",
      "Construction Via Linear Programming.\" Proceedings of the 4th\n",
      "Midwest Artificial Intelligence and Cognitive Science Society,\n",
      "pp. 97-101, 1992], a classification method which uses linear\n",
      "programming to construct a decision tree.  Relevant features\n",
      "were selected using an exhaustive search in the space of 1-4\n",
      "features and 1-3 separating planes.\n",
      "\n",
      "The actual linear program used to obtain the separating plane\n",
      "in the 3-dimensional space is that described in:\n",
      "[K. P. Bennett and O. L. Mangasarian: \"Robust Linear\n",
      "Programming Discrimination of Two Linearly Inseparable Sets\",\n",
      "Optimization Methods and Software 1, 1992, 23-34].\n",
      "\n",
      "This database is also available through the UW CS ftp server:\n",
      "\n",
      "ftp ftp.cs.wisc.edu\n",
      "cd math-prog/cpo-dataset/machine-learn/WDBC/\n",
      "\n",
      ".. dropdown:: References\n",
      "\n",
      "  - W.N. Street, W.H. Wolberg and O.L. Mangasarian. Nuclear feature extraction\n",
      "    for breast tumor diagnosis. IS&T/SPIE 1993 International Symposium on\n",
      "    Electronic Imaging: Science and Technology, volume 1905, pages 861-870,\n",
      "    San Jose, CA, 1993.\n",
      "  - O.L. Mangasarian, W.N. Street and W.H. Wolberg. Breast cancer diagnosis and\n",
      "    prognosis via linear programming. Operations Research, 43(4), pages 570-577,\n",
      "    July-August 1995.\n",
      "  - W.H. Wolberg, W.N. Street, and O.L. Mangasarian. Machine learning techniques\n",
      "    to diagnose breast cancer from fine-needle aspirates. Cancer Letters 77 (1994)\n",
      "    163-171.\n",
      "\n"
     ]
    }
   ],
   "source": [
    "df = datasets.load_breast_cancer()\n",
    "print(df.DESCR)"
   ]
  },
  {
   "cell_type": "code",
   "execution_count": 3,
   "id": "acb1a26f-5129-43fa-9104-b29da214f7d0",
   "metadata": {},
   "outputs": [
    {
     "data": {
      "text/plain": [
       "['mean radius',\n",
       " 'mean texture',\n",
       " 'mean perimeter',\n",
       " 'mean area',\n",
       " 'mean smoothness',\n",
       " 'mean compactness',\n",
       " 'mean concavity',\n",
       " 'mean concave points',\n",
       " 'mean symmetry',\n",
       " 'mean fractal dimension',\n",
       " 'radius error',\n",
       " 'texture error',\n",
       " 'perimeter error',\n",
       " 'area error',\n",
       " 'smoothness error',\n",
       " 'compactness error',\n",
       " 'concavity error',\n",
       " 'concave points error',\n",
       " 'symmetry error',\n",
       " 'fractal dimension error',\n",
       " 'worst radius',\n",
       " 'worst texture',\n",
       " 'worst perimeter',\n",
       " 'worst area',\n",
       " 'worst smoothness',\n",
       " 'worst compactness',\n",
       " 'worst concavity',\n",
       " 'worst concave points',\n",
       " 'worst symmetry',\n",
       " 'worst fractal dimension']"
      ]
     },
     "execution_count": 3,
     "metadata": {},
     "output_type": "execute_result"
    }
   ],
   "source": [
    "list(df.feature_names)"
   ]
  },
  {
   "cell_type": "code",
   "execution_count": 4,
   "id": "2bdd2354-3e1e-43b8-a477-9d2b4586b667",
   "metadata": {},
   "outputs": [
    {
     "data": {
      "text/plain": [
       "30"
      ]
     },
     "execution_count": 4,
     "metadata": {},
     "output_type": "execute_result"
    }
   ],
   "source": [
    "len(df.feature_names)"
   ]
  },
  {
   "cell_type": "code",
   "execution_count": 5,
   "id": "1e60e1f7-9e35-461f-8aa2-0c2bd0f6b95f",
   "metadata": {},
   "outputs": [
    {
     "data": {
      "text/plain": [
       "['malignant', 'benign']"
      ]
     },
     "execution_count": 5,
     "metadata": {},
     "output_type": "execute_result"
    }
   ],
   "source": [
    "list(df.target_names)"
   ]
  },
  {
   "cell_type": "code",
   "execution_count": 6,
   "id": "7805c357-7866-408f-a10d-be72d38de82a",
   "metadata": {},
   "outputs": [],
   "source": [
    "classes = {0 : 'malignant', 1 : 'benign'}"
   ]
  },
  {
   "cell_type": "code",
   "execution_count": 7,
   "id": "40262f06-f229-4f43-919b-02d465890e09",
   "metadata": {},
   "outputs": [],
   "source": [
    "X, y = df.data, df.target"
   ]
  },
  {
   "cell_type": "code",
   "execution_count": 8,
   "id": "2b01791c-8d29-4d15-adf0-d174d1a490bf",
   "metadata": {},
   "outputs": [
    {
     "name": "stdout",
     "output_type": "stream",
     "text": [
      "Shape X_train: (455, 30)\n",
      "Shape y_train: (455,)\n",
      "Shape X_test: (114, 30)\n",
      "Shape y_test: (114,)\n"
     ]
    }
   ],
   "source": [
    "# Split the data into a training and test set\n",
    "X_train, X_test, y_train, y_test = train_test_split(X, y, test_size=0.2, random_state=1)\n",
    "\n",
    "print(f'Shape X_train: {X_train.shape}')\n",
    "print(f'Shape y_train: {y_train.shape}')\n",
    "print(f'Shape X_test: {X_test.shape}')\n",
    "print(f'Shape y_test: {y_test.shape}')"
   ]
  },
  {
   "cell_type": "code",
   "execution_count": 9,
   "id": "3b044cbc-67f4-44fb-b6ab-9e066cf4cf4e",
   "metadata": {},
   "outputs": [
    {
     "name": "stdout",
     "output_type": "stream",
     "text": [
      "Data type of X_train: float64\n",
      "Data type of X_test: float64\n"
     ]
    }
   ],
   "source": [
    "# check the dtype\n",
    "print(f'Data type of X_train: {X_train.dtype}')\n",
    "print(f'Data type of X_test: {X_test.dtype}')"
   ]
  },
  {
   "cell_type": "code",
   "execution_count": 10,
   "id": "7931e0d5-853a-431c-ba08-ea03fd890508",
   "metadata": {},
   "outputs": [],
   "source": [
    "# change the dtype to 'float128'\n",
    "X_train = X_train.astype('float64')\n",
    "X_test = X_test.astype('float64')"
   ]
  },
  {
   "cell_type": "code",
   "execution_count": 11,
   "id": "30cbf013-36fe-4496-8308-c3b52f415b36",
   "metadata": {},
   "outputs": [
    {
     "name": "stdout",
     "output_type": "stream",
     "text": [
      "Data type of X_train: float64\n",
      "Data type of X_test: float64\n"
     ]
    }
   ],
   "source": [
    "print(f'Data type of X_train: {X_train.dtype}')\n",
    "print(f'Data type of X_test: {X_test.dtype}')"
   ]
  },
  {
   "cell_type": "code",
   "execution_count": 12,
   "id": "ecf8602e-d117-47b8-8d95-6d1da48d0522",
   "metadata": {},
   "outputs": [],
   "source": [
    "n_samples, n_features = X_train.shape"
   ]
  },
  {
   "cell_type": "code",
   "execution_count": 13,
   "id": "defd77fe-aa3c-43e9-b004-da69b2b4f87f",
   "metadata": {},
   "outputs": [],
   "source": [
    "def parameters_initialization(m):\n",
    "    W = np.random.randn(1, m)  # Вектор ваг форми (1, m)\n",
    "    b = 0\n",
    "    return W, b\n"
   ]
  },
  {
   "cell_type": "code",
   "execution_count": 14,
   "id": "7e9d8874-3b7a-4a18-9acb-42f2d14e92c7",
   "metadata": {},
   "outputs": [],
   "source": [
    "W, b = parameters_initialization(n_features)"
   ]
  },
  {
   "cell_type": "code",
   "execution_count": 15,
   "id": "57255135-c21e-46b6-ab5e-9242d4dc0d48",
   "metadata": {},
   "outputs": [
    {
     "data": {
      "text/plain": [
       "array([[ 1.62434536, -0.61175641, -0.52817175, -1.07296862,  0.86540763,\n",
       "        -2.3015387 ,  1.74481176, -0.7612069 ,  0.3190391 , -0.24937038,\n",
       "         1.46210794, -2.06014071, -0.3224172 , -0.38405435,  1.13376944,\n",
       "        -1.09989127, -0.17242821, -0.87785842,  0.04221375,  0.58281521,\n",
       "        -1.10061918,  1.14472371,  0.90159072,  0.50249434,  0.90085595,\n",
       "        -0.68372786, -0.12289023, -0.93576943, -0.26788808,  0.53035547]])"
      ]
     },
     "execution_count": 15,
     "metadata": {},
     "output_type": "execute_result"
    }
   ],
   "source": [
    "W"
   ]
  },
  {
   "cell_type": "code",
   "execution_count": 16,
   "id": "f1b10f84-b620-48ac-9194-caebbade2f94",
   "metadata": {},
   "outputs": [
    {
     "data": {
      "text/plain": [
       "(1, 30)"
      ]
     },
     "execution_count": 16,
     "metadata": {},
     "output_type": "execute_result"
    }
   ],
   "source": [
    "W.shape"
   ]
  },
  {
   "cell_type": "code",
   "execution_count": 17,
   "id": "d435cb78-ef01-4a0d-bcc1-10ff446075f6",
   "metadata": {},
   "outputs": [
    {
     "data": {
      "text/plain": [
       "0"
      ]
     },
     "execution_count": 17,
     "metadata": {},
     "output_type": "execute_result"
    }
   ],
   "source": [
    "b"
   ]
  },
  {
   "cell_type": "code",
   "execution_count": 18,
   "id": "77b76d2c-99e0-4e02-af4b-3d175f5de183",
   "metadata": {},
   "outputs": [],
   "source": [
    "def sigmoid(x):\n",
    "    return 1 / (1 + np.exp(-np.clip(x, -500, 500)))\n"
   ]
  },
  {
   "cell_type": "code",
   "execution_count": 19,
   "id": "9b5e3453-e725-4f20-9d7a-2fd48118eff8",
   "metadata": {},
   "outputs": [],
   "source": [
    "def forwardPropagate(X, W, b):\n",
    "    z = np.dot(W, X.T) + b  \n",
    "    y_hat = sigmoid(z)\n",
    "    return z, y_hat"
   ]
  },
  {
   "cell_type": "code",
   "execution_count": 20,
   "id": "b6bbf4c9-c8d8-4058-bd83-76d10e6f6c00",
   "metadata": {},
   "outputs": [],
   "source": [
    "z = forwardPropagate(X_train, W, b)"
   ]
  },
  {
   "cell_type": "code",
   "execution_count": 21,
   "id": "f1689226-f03d-4e1f-8563-2167b745164f",
   "metadata": {},
   "outputs": [],
   "source": [
    "z, y_hat = forwardPropagate(X_train, W, b)"
   ]
  },
  {
   "cell_type": "code",
   "execution_count": 22,
   "id": "78e25971-99d0-4e4f-a1fa-b6aa46495726",
   "metadata": {},
   "outputs": [
    {
     "data": {
      "text/plain": [
       "(1, 455)"
      ]
     },
     "execution_count": 22,
     "metadata": {},
     "output_type": "execute_result"
    }
   ],
   "source": [
    "z.shape"
   ]
  },
  {
   "cell_type": "code",
   "execution_count": 23,
   "id": "b50dcea6-8914-462b-83e3-8b98a141c8c2",
   "metadata": {},
   "outputs": [
    {
     "data": {
      "text/plain": [
       "(1, 455)"
      ]
     },
     "execution_count": 23,
     "metadata": {},
     "output_type": "execute_result"
    }
   ],
   "source": [
    "y_hat.shape"
   ]
  },
  {
   "cell_type": "code",
   "execution_count": 24,
   "id": "b13fbec0-2763-42ce-9528-6d6399f9dfea",
   "metadata": {},
   "outputs": [],
   "source": [
    "def cost(n, y_hat, y_true):\n",
    "    ep = 10E-10\n",
    "    total_sum = 0  # Ініціалізація змінної для підсумовування\n",
    "\n",
    "    for i in range(n):\n",
    "        total_sum += y_true[i] * np.log(y_hat[0][i] + ep) + (1 - y_true[i]) * np.log(1 - y_hat[0][i] + ep)\n",
    "\n",
    "    return (-1 / n) * total_sum\n"
   ]
  },
  {
   "cell_type": "code",
   "execution_count": 25,
   "id": "36bbd3e0-46ee-4be7-9dad-30feb7fe141e",
   "metadata": {},
   "outputs": [
    {
     "data": {
      "text/plain": [
       "13.179396866622987"
      ]
     },
     "execution_count": 25,
     "metadata": {},
     "output_type": "execute_result"
    }
   ],
   "source": [
    "J = cost(n_samples, y_hat, y_train)\n",
    "J"
   ]
  },
  {
   "cell_type": "code",
   "execution_count": 26,
   "id": "51a9752e-9b9b-4ab3-8884-6d690f1a295f",
   "metadata": {},
   "outputs": [],
   "source": [
    "def backwardPropagate(n, X, y_hat, y_true):\n",
    "    dW = 1/n*np . dot (( y_hat - y_true ) ,X)\n",
    "\n",
    "    db = 0\n",
    "    for i in range(n):\n",
    "        db += y_hat[0][i]-y_true[i]\n",
    "\n",
    "    return dW, (1/n)*db"
   ]
  },
  {
   "cell_type": "code",
   "execution_count": 27,
   "id": "bdb0933c-ff1b-4b16-907e-6a16329206be",
   "metadata": {},
   "outputs": [],
   "source": [
    "dW, db = backwardPropagate(n_samples, X_train, y_hat, y_train)"
   ]
  },
  {
   "cell_type": "code",
   "execution_count": 28,
   "id": "79810c48-5958-405a-a27f-269110179827",
   "metadata": {},
   "outputs": [
    {
     "data": {
      "text/plain": [
       "(1, 30)"
      ]
     },
     "execution_count": 28,
     "metadata": {},
     "output_type": "execute_result"
    }
   ],
   "source": [
    "dW.shape"
   ]
  },
  {
   "cell_type": "code",
   "execution_count": 29,
   "id": "4da71567-cdad-40da-b42c-728ab6bc1835",
   "metadata": {},
   "outputs": [
    {
     "data": {
      "text/plain": [
       "-0.6153846170665638"
      ]
     },
     "execution_count": 29,
     "metadata": {},
     "output_type": "execute_result"
    }
   ],
   "source": [
    "db"
   ]
  },
  {
   "cell_type": "code",
   "execution_count": 30,
   "id": "60f29b49-2197-4452-99f3-b8e2db9cd3ae",
   "metadata": {},
   "outputs": [
    {
     "data": {
      "text/plain": [
       "()"
      ]
     },
     "execution_count": 30,
     "metadata": {},
     "output_type": "execute_result"
    }
   ],
   "source": [
    "db.shape"
   ]
  },
  {
   "cell_type": "code",
   "execution_count": 31,
   "id": "3c9806b1-4f22-4d5e-8a61-9319f1deaf91",
   "metadata": {},
   "outputs": [],
   "source": [
    "def update(lr, dW, db, W, b):\n",
    "    W = W - lr*dW\n",
    "    b = b - lr-db\n",
    "\n",
    "    return W, b"
   ]
  },
  {
   "cell_type": "code",
   "execution_count": 32,
   "id": "999043ee-4040-4e42-9164-0a89b9350914",
   "metadata": {},
   "outputs": [],
   "source": [
    "W, b = update(0.0001, dW, db, W, b)"
   ]
  },
  {
   "cell_type": "code",
   "execution_count": 33,
   "id": "61759c06-db88-4f58-8bde-308b4e561672",
   "metadata": {},
   "outputs": [
    {
     "data": {
      "text/plain": [
       "array([[ 1.62508596, -0.61066448, -0.52341384, -1.04515434,  0.86541332,\n",
       "        -2.30153382,  1.74481445, -0.76120538,  0.3190498 , -0.2493665 ,\n",
       "         1.4621249 , -2.06006509, -0.32229831, -0.3828623 ,  1.13376989,\n",
       "        -1.09988995, -0.17242665, -0.87785781,  0.04221502,  0.58281544,\n",
       "        -1.09981092,  1.14614905,  0.90684197,  0.53495906,  0.90086358,\n",
       "        -0.68371686, -0.12288053, -0.93576501, -0.26787159,  0.53036033]])"
      ]
     },
     "execution_count": 33,
     "metadata": {},
     "output_type": "execute_result"
    }
   ],
   "source": [
    "W"
   ]
  },
  {
   "cell_type": "code",
   "execution_count": 34,
   "id": "ab3c451d-7c86-474b-93b4-1b37edb209b6",
   "metadata": {},
   "outputs": [
    {
     "data": {
      "text/plain": [
       "0.6152846170665638"
      ]
     },
     "execution_count": 34,
     "metadata": {},
     "output_type": "execute_result"
    }
   ],
   "source": [
    "b"
   ]
  },
  {
   "cell_type": "code",
   "execution_count": 35,
   "id": "54f856ba-ac2f-42ed-80b2-f64512d6902e",
   "metadata": {},
   "outputs": [],
   "source": [
    "class LogisticRegression:\n",
    "\n",
    "  def __init__(self, lr=0.001, n_iters=1000):\n",
    "      self.lr = lr\n",
    "      self.n_iters = n_iters\n",
    "\n",
    "\n",
    "  def fit(self, X, y):\n",
    "    \"\"\"\n",
    "    Trains a logistic regression model using gradient descent\n",
    "    \"\"\"\n",
    "    # Step 0: Initialize the parameters\n",
    "    n_samples, n_features = X.shape\n",
    "    self.W, self.b = parameters_initialization(n_features)\n",
    "\n",
    "    costs = []\n",
    "\n",
    "    for i in range(self.n_iters):\n",
    "      # Step 1: Compute a linear combination of the input features and weights\n",
    "      z, y_hat = forwardPropagate(X, self.W, self.b)\n",
    "      # Step 2: Compute cost over training set\n",
    "      J = cost(n_samples, y_hat, y)\n",
    "      costs.append(J)\n",
    "      if i % 20 == 0:\n",
    "        print(f\"Усереднена втрата моделі на ітерації {i}: {J}\")\n",
    "      # Step 3: Compute the gradients\n",
    "      dW, db = backwardPropagate(n_samples, X, y_hat, y)\n",
    "      # Step 4: Update the parameters\n",
    "      self.W, self.b = update(self.lr, dW, db, self.W, self.b)\n",
    "    return self.W, self.b, costs\n",
    "\n",
    "  def predict(self, X):\n",
    "    z, y_hat = forwardPropagate(X, self.W, self.b)\n",
    "    class_pred = [0 if y < 0.5 else 1 for y in y_hat[0][:]]\n",
    "    return class_pred\n",
    "\n",
    "  def evaluate(self, X, y):\n",
    "    n_samples, n_features = X.shape\n",
    "    z, y_hat = forwardPropagate(X, self.W, self.b)\n",
    "    J = cost(n_samples, y_hat, y)\n",
    "    return J"
   ]
  },
  {
   "cell_type": "code",
   "execution_count": 36,
   "id": "04623098-ec11-4bcd-8172-6e170bfe533d",
   "metadata": {},
   "outputs": [
    {
     "name": "stdout",
     "output_type": "stream",
     "text": [
      "Усереднена втрата моделі на ітерації 0: 12.980507172219138\n",
      "Усереднена втрата моделі на ітерації 20: 12.980507172219138\n",
      "Усереднена втрата моделі на ітерації 40: 12.980507172219138\n",
      "Усереднена втрата моделі на ітерації 60: 3.6811049053012903\n",
      "Усереднена втрата моделі на ітерації 80: 12.587400467463649\n",
      "Усереднена втрата моделі на ітерації 100: 13.026050625011116\n",
      "Усереднена втрата моделі на ітерації 120: 12.296310942266386\n",
      "Усереднена втрата моделі на ітерації 140: 12.183670551004163\n",
      "Усереднена втрата моделі на ітерації 160: 10.519462431382546\n",
      "Усереднена втрата моделі на ітерації 180: 3.855485482338203\n",
      "Усереднена втрата моделі на ітерації 200: 2.81474582450797\n",
      "Усереднена втрата моделі на ітерації 220: 2.6726882770604834\n",
      "Усереднена втрата моделі на ітерації 240: 2.680315517912037\n",
      "Усереднена втрата моделі на ітерації 260: 2.7993490360490982\n",
      "Усереднена втрата моделі на ітерації 280: 2.8248829650668656\n",
      "Усереднена втрата моделі на ітерації 300: 2.671372344752885\n",
      "Усереднена втрата моделі на ітерації 320: 2.679936902151059\n",
      "Усереднена втрата моделі на ітерації 340: 2.8074105528889706\n",
      "Усереднена втрата моделі на ітерації 360: 2.7999484379280877\n",
      "Усереднена втрата моделі на ітерації 380: 8.467432644633934\n",
      "Усереднена втрата моделі на ітерації 400: 8.84120523878557\n",
      "Усереднена втрата моделі на ітерації 420: 2.0006476442196335\n",
      "Усереднена втрата моделі на ітерації 440: 1.9849104145757135\n",
      "Усереднена втрата моделі на ітерації 460: 1.9752730991483742\n",
      "Усереднена втрата моделі на ітерації 480: 2.0006290444099983\n",
      "Усереднена втрата моделі на ітерації 500: 2.000552726425456\n",
      "Усереднена втрата моделі на ітерації 520: 2.0583916591622775\n",
      "Усереднена втрата моделі на ітерації 540: 1.9788738210220937\n",
      "Усереднена втрата моделі на ітерації 560: 1.9116176340340667\n",
      "Усереднена втрата моделі на ітерації 580: 1.9220719520198835\n",
      "Усереднена втрата моделі на ітерації 600: 1.9266666024540935\n",
      "Усереднена втрата моделі на ітерації 620: 2.0059708615240193\n",
      "Усереднена втрата моделі на ітерації 640: 2.0042011483602296\n",
      "Усереднена втрата моделі на ітерації 660: 1.9088718947056869\n",
      "Усереднена втрата моделі на ітерації 680: 2.4829669917923325\n",
      "Усереднена втрата моделі на ітерації 700: 11.166000377407466\n",
      "Усереднена втрата моделі на ітерації 720: 6.23734091427477\n",
      "Усереднена втрата моделі на ітерації 740: 1.6948256523918561\n",
      "Усереднена втрата моделі на ітерації 760: 1.684825956968261\n",
      "Усереднена втрата моделі на ітерації 780: 1.6640936188281026\n",
      "Усереднена втрата моделі на ітерації 800: 1.6426673507730485\n",
      "Усереднена втрата моделі на ітерації 820: 1.6281030386338025\n",
      "Усереднена втрата моделі на ітерації 840: 1.6542488601058747\n",
      "Усереднена втрата моделі на ітерації 860: 1.7361352191212163\n",
      "Усереднена втрата моделі на ітерації 880: 1.7404075002557369\n",
      "Усереднена втрата моделі на ітерації 900: 1.7272021902967576\n",
      "Усереднена втрата моделі на ітерації 920: 1.423845712452423\n",
      "Усереднена втрата моделі на ітерації 940: 1.416490088407071\n",
      "Усереднена втрата моделі на ітерації 960: 1.4157137206362294\n",
      "Усереднена втрата моделі на ітерації 980: 1.4148518952281235\n"
     ]
    },
    {
     "data": {
      "image/png": "[encoded data removed]",
      "text/plain": [
       "<Figure size 800x600 with 1 Axes>"
      ]
     },
     "metadata": {},
     "output_type": "display_data"
    },
    {
     "name": "stdout",
     "output_type": "stream",
     "text": [
      "CPU times: total: 2.02 s\n",
      "Wall time: 2.27 s\n"
     ]
    }
   ],
   "source": [
    "%%time \n",
    "lr = 0.001\n",
    "n_iters = 1000\n",
    "\n",
    "model = LogisticRegression(lr, n_iters)\n",
    "w_trained, b_trained, costs = model.fit(X_train, y_train)\n",
    "\n",
    "fig = plt.figure(figsize=(8,6))\n",
    "plt.plot(np.arange(n_iters), costs)\n",
    "plt.title(\"Change in Model Loss During Training\")\n",
    "plt.xlabel(\"Number of Iterations\")\n",
    "plt.ylabel(\"Loss\")\n",
    "plt.show()"
   ]
  },
  {
   "cell_type": "code",
   "execution_count": 37,
   "id": "4a121d5e-bbfc-4251-8f75-1fb83f421d20",
   "metadata": {},
   "outputs": [],
   "source": [
    "y_pred = model.predict(X_test)"
   ]
  },
  {
   "cell_type": "code",
   "execution_count": 38,
   "id": "0c6a0faf-c476-4754-82aa-ef5cf6e3749d",
   "metadata": {},
   "outputs": [],
   "source": [
    "y_pred = np.array(y_pred)\n"
   ]
  },
  {
   "cell_type": "code",
   "execution_count": 39,
   "id": "fc445e7f-9961-4fc3-aa0c-a78038f76ab9",
   "metadata": {},
   "outputs": [
    {
     "data": {
      "text/plain": [
       "(114,)"
      ]
     },
     "execution_count": 39,
     "metadata": {},
     "output_type": "execute_result"
    }
   ],
   "source": [
    "y_pred.shape"
   ]
  },
  {
   "cell_type": "code",
   "execution_count": 40,
   "id": "efe6aa22-b202-46e3-b601-53b87bc9d424",
   "metadata": {},
   "outputs": [],
   "source": [
    "def accuracy(y_pred, y_true):\n",
    "  return np.sum(y_pred == y_true) / y_true.size"
   ]
  },
  {
   "cell_type": "code",
   "execution_count": 41,
   "id": "950fb27b-bfbe-401c-b8da-233fae67799a",
   "metadata": {},
   "outputs": [
    {
     "data": {
      "text/plain": [
       "0.9298245614035088"
      ]
     },
     "execution_count": 41,
     "metadata": {},
     "output_type": "execute_result"
    }
   ],
   "source": [
    "acc = accuracy(y_pred, y_test)\n",
    "acc"
   ]
  },
  {
   "cell_type": "code",
   "execution_count": 42,
   "id": "2cfb9654-d05d-40b8-b908-9ffb05509b18",
   "metadata": {},
   "outputs": [
    {
     "data": {
      "text/plain": [
       "array([1, 0, 1, 0, 0, 0, 0, 0, 1, 1, 1, 0, 0, 1, 1, 1, 1, 1, 1, 0, 1, 1,\n",
       "       0, 1, 0, 1, 1, 0, 0, 0, 0, 1, 0, 0, 1, 1, 0, 1, 1, 1, 1, 1, 1, 1,\n",
       "       1, 0, 1, 1, 0, 0, 0, 0, 1, 1, 1, 1, 1, 0, 1, 1, 1, 0, 1, 0, 1, 1,\n",
       "       1, 0, 1, 1, 1, 1, 0, 0, 1, 0, 1, 1, 1, 0, 1, 0, 1, 0, 1, 1, 0, 1,\n",
       "       0, 1, 1, 0, 1, 1, 0, 0, 1, 1, 1, 1, 1, 1, 1, 0, 1, 1, 1, 1, 0, 0,\n",
       "       1, 1, 0, 1])"
      ]
     },
     "execution_count": 42,
     "metadata": {},
     "output_type": "execute_result"
    }
   ],
   "source": [
    "y_pred"
   ]
  },
  {
   "cell_type": "code",
   "execution_count": 43,
   "id": "80f89ffa-ae11-4083-aa4d-56f6a2123e94",
   "metadata": {},
   "outputs": [
    {
     "data": {
      "text/plain": [
       "array([1, 0, 1, 0, 0, 0, 0, 0, 1, 1, 1, 0, 0, 1, 1, 1, 1, 1, 1, 0, 1, 1,\n",
       "       0, 1, 0, 1, 1, 0, 0, 0, 0, 1, 0, 0, 1, 1, 0, 1, 0, 1, 1, 1, 1, 1,\n",
       "       1, 0, 1, 1, 1, 0, 0, 0, 1, 1, 1, 1, 1, 0, 1, 1, 1, 0, 1, 1, 1, 1,\n",
       "       1, 0, 1, 1, 1, 1, 0, 0, 1, 0, 0, 0, 1, 0, 1, 0, 1, 0, 1, 1, 0, 1,\n",
       "       0, 1, 1, 0, 1, 1, 0, 0, 1, 1, 1, 1, 1, 1, 1, 1, 1, 1, 1, 1, 0, 0,\n",
       "       0, 1, 1, 1])"
      ]
     },
     "execution_count": 43,
     "metadata": {},
     "output_type": "execute_result"
    }
   ],
   "source": [
    "y_test"
   ]
  },
  {
   "cell_type": "code",
   "execution_count": 44,
   "id": "fb58cdb1-8983-4f86-a429-b8bba70a498a",
   "metadata": {},
   "outputs": [
    {
     "name": "stdout",
     "output_type": "stream",
     "text": [
      "Average model loss on the test set: 1.2048546027856057\n"
     ]
    }
   ],
   "source": [
    "cost_test = model.evaluate(X_test, y_test)\n",
    "print(f\"Average model loss on the test set: {cost_test}\")\n"
   ]
  },
  {
   "cell_type": "code",
   "execution_count": null,
   "id": "d6cf8d6b-27b8-46ae-b72f-34262789b49e",
   "metadata": {},
   "outputs": [],
   "source": []
  }
 ],
 "metadata": {
  "kernelspec": {
   "display_name": "Python 3.12",
   "language": "python",
   "name": "python312"
  },
  "language_info": {
   "codemirror_mode": {
    "name": "ipython",
    "version": 3
   },
   "file_extension": ".py",
   "mimetype": "text/x-python",
   "name": "python",
   "nbconvert_exporter": "python",
   "pygments_lexer": "ipython3",
   "version": "3.12.3"
  }
 },
 "nbformat": 4,
 "nbformat_minor": 5
}
